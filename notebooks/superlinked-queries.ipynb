{
 "cells": [
  {
   "cell_type": "markdown",
   "metadata": {},
   "source": [
    "Run this notebook in the same virtual environment with superlinked server\n",
    "to ensure the same version of `superlinked` framework."
   ]
  },
  {
   "cell_type": "code",
   "execution_count": 1,
   "metadata": {},
   "outputs": [
    {
     "name": "stdout",
     "output_type": "stream",
     "text": [
      "superlinked==19.14.1\n"
     ]
    }
   ],
   "source": [
    "!pip freeze | grep superlinked"
   ]
  },
  {
   "cell_type": "code",
   "execution_count": 2,
   "metadata": {},
   "outputs": [],
   "source": [
    "%reload_ext autoreload\n",
    "%autoreload 2"
   ]
  },
  {
   "cell_type": "code",
   "execution_count": 3,
   "metadata": {},
   "outputs": [],
   "source": [
    "from pathlib import Path\n",
    "import sys\n",
    "\n",
    "cwd = Path.cwd()\n",
    "project_dir = cwd.parent\n",
    "sys.path.append(str(project_dir))"
   ]
  },
  {
   "cell_type": "code",
   "execution_count": 4,
   "metadata": {},
   "outputs": [
    {
     "name": "stderr",
     "output_type": "stream",
     "text": [
      "/Users/benjiqu/Projects/superlinked/hotel-search/.venv-new/lib/python3.11/site-packages/tqdm/auto.py:21: TqdmWarning: IProgress not found. Please update jupyter and ipywidgets. See https://ipywidgets.readthedocs.io/en/stable/user_install.html\n",
      "  from .autonotebook import tqdm as notebook_tqdm\n"
     ]
    }
   ],
   "source": [
    "from superlinked import framework as sl\n",
    "\n",
    "from superlinked_app.index import index, hotel_schema\n",
    "from superlinked_app.query import query\n",
    "from superlinked_app.api import vector_database"
   ]
  },
  {
   "cell_type": "code",
   "execution_count": 5,
   "metadata": {},
   "outputs": [],
   "source": [
    "source = sl.InMemorySource(hotel_schema)\n",
    "executor = sl.InteractiveExecutor(\n",
    "    sources=[source],\n",
    "    indices=[index],\n",
    "    vector_database=vector_database,\n",
    ")\n",
    "app = executor.run()"
   ]
  },
  {
   "cell_type": "code",
   "execution_count": 6,
   "metadata": {},
   "outputs": [
    {
     "name": "stdout",
     "output_type": "stream",
     "text": [
      "{'price_weight': 0.0, 'rating_weight': 1.0, 'rating_count_weight': 0.0, 'description_weight': 1.0, 'description': 'Pet-friendly hotel with cozy interior.', 'limit': 3, 'city': 'London', 'min_price': None, 'max_price': None, 'min_rating': None, 'max_rating': None, 'accomodation_types_include': 'Hotel', 'accomodation_types_exclude': None, 'property_amenities_include_all': None, 'property_amenities_include_any': ['Pets allowed'], 'property_amenities_exclude': None, 'room_amenities_include_all': None, 'room_amenities_include_any': None, 'room_amenities_exclude': None, 'wellness_spa_include_all': None, 'wellness_spa_include_any': None, 'wellness_spa_exclude': None, 'accessibility_include_all': None, 'accessibility_include_any': None, 'accessibility_exclude': None, 'for_children_include_all': None, 'for_children_include_any': None, 'for_children_exclude': None, 'natural_query': 'well rated pet friendly hotel in london, cozy interior', 'system_prompt_param__': \"Extract the search parameters from the user query.\\nAdvices:\\n**'include' and 'exclude' attributes**\\nUse relevant amenities, for example, include 'Cot' when user mentions 'baby',and exclude it when user mentions 'no children'.\\nIf no amenities are mentioned, use None for 'include' and 'exclude'.\\n**'accomodation_type'**\\nIf users searches for some hotels, include 'Hotel' in accomodation types, same for other accomodation types.\\n\", 'select_param__': ['description', 'price', 'rating', 'rating_count', 'accomodation_type', 'property_amenities', 'room_amenities', 'wellness_spa', 'accessibility', 'for_children', 'city', 'country'], 'radius_param__': None, 'similar_description_weight': 1.0}\n"
     ]
    },
    {
     "data": {
      "text/html": [
       "<div>\n",
       "<style scoped>\n",
       "    .dataframe tbody tr th:only-of-type {\n",
       "        vertical-align: middle;\n",
       "    }\n",
       "\n",
       "    .dataframe tbody tr th {\n",
       "        vertical-align: top;\n",
       "    }\n",
       "\n",
       "    .dataframe thead th {\n",
       "        text-align: right;\n",
       "    }\n",
       "</style>\n",
       "<table border=\"1\" class=\"dataframe\">\n",
       "  <thead>\n",
       "    <tr style=\"text-align: right;\">\n",
       "      <th></th>\n",
       "      <th>description</th>\n",
       "      <th>price</th>\n",
       "      <th>rating</th>\n",
       "      <th>rating_count</th>\n",
       "      <th>accomodation_type</th>\n",
       "      <th>property_amenities</th>\n",
       "      <th>room_amenities</th>\n",
       "      <th>wellness_spa</th>\n",
       "      <th>accessibility</th>\n",
       "      <th>for_children</th>\n",
       "      <th>city</th>\n",
       "      <th>country</th>\n",
       "      <th>id</th>\n",
       "      <th>similarity_score</th>\n",
       "    </tr>\n",
       "  </thead>\n",
       "  <tbody>\n",
       "    <tr>\n",
       "      <th>0</th>\n",
       "      <td>Welcome to Canopy by Hilton London City, an im...</td>\n",
       "      <td>145</td>\n",
       "      <td>9.4</td>\n",
       "      <td>3119</td>\n",
       "      <td>Hotel</td>\n",
       "      <td>[24-hour reception, 24-hour room service, Busi...</td>\n",
       "      <td>[Air conditioning, Bathtub, Cable TV, Central ...</td>\n",
       "      <td>[]</td>\n",
       "      <td>[Accessible bathroom, Accessible hotel, In-roo...</td>\n",
       "      <td>[Cot]</td>\n",
       "      <td>London</td>\n",
       "      <td>United Kingdom</td>\n",
       "      <td>Canopy by Hilton London City</td>\n",
       "      <td>0.742976</td>\n",
       "    </tr>\n",
       "    <tr>\n",
       "      <th>1</th>\n",
       "      <td>Just a short walk from the Aldgate tube statio...</td>\n",
       "      <td>117</td>\n",
       "      <td>8.9</td>\n",
       "      <td>6329</td>\n",
       "      <td>Hotel</td>\n",
       "      <td>[24-hour reception, Breakfast, Cashless paymen...</td>\n",
       "      <td>[Air conditioning, Central heating, Desk, Free...</td>\n",
       "      <td>[]</td>\n",
       "      <td>[Wheelchair accessible]</td>\n",
       "      <td>[]</td>\n",
       "      <td>London</td>\n",
       "      <td>United Kingdom</td>\n",
       "      <td>Motel One London-Tower Hill</td>\n",
       "      <td>0.712467</td>\n",
       "    </tr>\n",
       "    <tr>\n",
       "      <th>2</th>\n",
       "      <td>Begin your day with a scrumptious on-site brea...</td>\n",
       "      <td>120</td>\n",
       "      <td>9.1</td>\n",
       "      <td>1867</td>\n",
       "      <td>Hotel</td>\n",
       "      <td>[24-hour reception, Café, Cashless payment, Co...</td>\n",
       "      <td>[Air conditioning, Balcony, Central heating, F...</td>\n",
       "      <td>[]</td>\n",
       "      <td>[Wheelchair accessible]</td>\n",
       "      <td>[Cot]</td>\n",
       "      <td>London</td>\n",
       "      <td>United Kingdom</td>\n",
       "      <td>The Gantry London, Curio Collection By Hilton</td>\n",
       "      <td>0.704894</td>\n",
       "    </tr>\n",
       "  </tbody>\n",
       "</table>\n",
       "</div>"
      ],
      "text/plain": [
       "                                         description  price  rating  \\\n",
       "0  Welcome to Canopy by Hilton London City, an im...    145     9.4   \n",
       "1  Just a short walk from the Aldgate tube statio...    117     8.9   \n",
       "2  Begin your day with a scrumptious on-site brea...    120     9.1   \n",
       "\n",
       "   rating_count accomodation_type  \\\n",
       "0          3119             Hotel   \n",
       "1          6329             Hotel   \n",
       "2          1867             Hotel   \n",
       "\n",
       "                                  property_amenities  \\\n",
       "0  [24-hour reception, 24-hour room service, Busi...   \n",
       "1  [24-hour reception, Breakfast, Cashless paymen...   \n",
       "2  [24-hour reception, Café, Cashless payment, Co...   \n",
       "\n",
       "                                      room_amenities wellness_spa  \\\n",
       "0  [Air conditioning, Bathtub, Cable TV, Central ...           []   \n",
       "1  [Air conditioning, Central heating, Desk, Free...           []   \n",
       "2  [Air conditioning, Balcony, Central heating, F...           []   \n",
       "\n",
       "                                       accessibility for_children    city  \\\n",
       "0  [Accessible bathroom, Accessible hotel, In-roo...        [Cot]  London   \n",
       "1                            [Wheelchair accessible]           []  London   \n",
       "2                            [Wheelchair accessible]        [Cot]  London   \n",
       "\n",
       "          country                                             id  \\\n",
       "0  United Kingdom                   Canopy by Hilton London City   \n",
       "1  United Kingdom                    Motel One London-Tower Hill   \n",
       "2  United Kingdom  The Gantry London, Curio Collection By Hilton   \n",
       "\n",
       "   similarity_score  \n",
       "0          0.742976  \n",
       "1          0.712467  \n",
       "2          0.704894  "
      ]
     },
     "execution_count": 6,
     "metadata": {},
     "output_type": "execute_result"
    }
   ],
   "source": [
    "params = {\n",
    "    \"natural_query\": \"well rated pet friendly hotel in london, cozy interior\",\n",
    "    \"limit\": 3,\n",
    "}\n",
    "result = app.query(query, **params)\n",
    "print(result.metadata.search_params)\n",
    "sl.PandasConverter.to_pandas(result)\n"
   ]
  },
  {
   "cell_type": "markdown",
   "metadata": {},
   "source": [
    "### Partial scores"
   ]
  },
  {
   "cell_type": "code",
   "execution_count": 7,
   "metadata": {},
   "outputs": [],
   "source": [
    "from superlinked.framework.dsl.executor.query.query_executor import (\n",
    "    QueryExecutor,\n",
    "    QueryDescriptor,\n",
    "    QueryParamValueSetter,\n",
    "    QueryVectorFactory,\n",
    ")\n",
    "from superlinked.evaluation.vector_sampler import VectorCollection\n",
    "from superlinked.framework.dsl.space.space import Space\n",
    "\n",
    "import numpy as np\n",
    "import pandas as pd"
   ]
  },
  {
   "cell_type": "code",
   "execution_count": 8,
   "metadata": {},
   "outputs": [],
   "source": [
    "def get_query_vector(\n",
    "    index: sl.Index,\n",
    "    app: sl.InteractiveExecutor,\n",
    "    query_descriptor: QueryDescriptor,\n",
    "    params: dict,\n",
    "):\n",
    "    query_vector_factory = QueryVectorFactory(index._dag)\n",
    "    query_executor = QueryExecutor(app, query_descriptor, query_vector_factory)\n",
    "    query_descriptor = QueryParamValueSetter.set_values(query_descriptor, params)\n",
    "    query_vector = query_executor._produce_query_vector(query_descriptor)\n",
    "    return query_vector\n",
    "\n",
    "\n",
    "def get_partial_scores(\n",
    "    spaces: list[Space], stored_vectors: VectorCollection, query_vector: np.ndarray\n",
    ") -> dict[str, dict[str, float]]:\n",
    "\n",
    "    i_start = 0\n",
    "    partial_scores = {}\n",
    "    ids = stored_vectors.id_list\n",
    "\n",
    "    for space in spaces:\n",
    "        fields = list(space._field_set)\n",
    "        assert len(fields) == 1\n",
    "        name = fields[0].name\n",
    "        i_end = i_start + space.length\n",
    "        v_space = stored_vectors.vectors[:, i_start:i_end]\n",
    "        q_space = query_vector[i_start:i_end]\n",
    "        partial_scores_space = np.dot(v_space, q_space)\n",
    "\n",
    "        partial_scores[name] = {id: x for id, x in zip(ids, partial_scores_space)}\n",
    "        i_start = i_end\n",
    "\n",
    "    return partial_scores"
   ]
  },
  {
   "cell_type": "code",
   "execution_count": 10,
   "metadata": {},
   "outputs": [],
   "source": [
    "from superlinked.framework.dsl.executor.query.query_executor import (\n",
    "    QueryExecutor\n",
    ")   \n",
    "from superlinked.framework.dsl.query.query_vector_factory import QueryVectorFactory"
   ]
  },
  {
   "cell_type": "code",
   "execution_count": 11,
   "metadata": {},
   "outputs": [
    {
     "name": "stdout",
     "output_type": "stream",
     "text": [
      "{'price_weight': 0.0, 'rating_weight': 1.0, 'rating_count_weight': 0.0, 'description_weight': 1.0, 'description': 'Pet friendly hotel with cozy interior.', 'limit': 3, 'city': 'London', 'min_price': None, 'max_price': None, 'min_rating': None, 'max_rating': None, 'accomodation_types_include': 'Hotel', 'accomodation_types_exclude': None, 'property_amenities_include_all': None, 'property_amenities_include_any': ['Pets allowed'], 'property_amenities_exclude': None, 'room_amenities_include_all': None, 'room_amenities_include_any': None, 'room_amenities_exclude': None, 'wellness_spa_include_all': None, 'wellness_spa_include_any': None, 'wellness_spa_exclude': None, 'accessibility_include_all': None, 'accessibility_include_any': None, 'accessibility_exclude': None, 'for_children_include_all': None, 'for_children_include_any': None, 'for_children_exclude': None, 'natural_query': 'well rated pet friendly hotel in london, cozy interior', 'system_prompt_param__': \"Extract the search parameters from the user query.\\nAdvices:\\n**'include' and 'exclude' attributes**\\nUse relevant amenities, for example, include 'Cot' when user mentions 'baby',and exclude it when user mentions 'no children'.\\nIf no amenities are mentioned, use None for 'include' and 'exclude'.\\n**'accomodation_type'**\\nIf users searches for some hotels, include 'Hotel' in accomodation types, same for other accomodation types.\\n\", 'select_param__': ['description', 'price', 'rating', 'rating_count', 'accomodation_type', 'property_amenities', 'room_amenities', 'wellness_spa', 'accessibility', 'for_children', 'city', 'country'], 'radius_param__': None, 'similar_description_weight': 1.0}\n"
     ]
    }
   ],
   "source": [
    "params = {\n",
    "    \"natural_query\": \"well rated pet friendly hotel in london, cozy interior\",\n",
    "    \"limit\": 3,\n",
    "}\n",
    "\n",
    "query_descriptor = QueryParamValueSetter.set_values(query, params)\n",
    "query_vector_factory = QueryVectorFactory(index._dag)\n",
    "query_executor = QueryExecutor(app, query_descriptor, query_vector_factory) \n",
    "knn_params = query_executor._map_search_params(query_descriptor)\n",
    "\n",
    "print(knn_params)\n"
   ]
  },
  {
   "cell_type": "code",
   "execution_count": 12,
   "metadata": {},
   "outputs": [
    {
     "data": {
      "text/html": [
       "<div>\n",
       "<style scoped>\n",
       "    .dataframe tbody tr th:only-of-type {\n",
       "        vertical-align: middle;\n",
       "    }\n",
       "\n",
       "    .dataframe tbody tr th {\n",
       "        vertical-align: top;\n",
       "    }\n",
       "\n",
       "    .dataframe thead th {\n",
       "        text-align: right;\n",
       "    }\n",
       "</style>\n",
       "<table border=\"1\" class=\"dataframe\">\n",
       "  <thead>\n",
       "    <tr style=\"text-align: right;\">\n",
       "      <th></th>\n",
       "      <th>description</th>\n",
       "      <th>price</th>\n",
       "      <th>rating</th>\n",
       "      <th>rating_count</th>\n",
       "      <th>accomodation_type</th>\n",
       "      <th>property_amenities</th>\n",
       "      <th>room_amenities</th>\n",
       "      <th>wellness_spa</th>\n",
       "      <th>accessibility</th>\n",
       "      <th>for_children</th>\n",
       "      <th>city</th>\n",
       "      <th>country</th>\n",
       "      <th>id</th>\n",
       "      <th>similarity_score</th>\n",
       "    </tr>\n",
       "  </thead>\n",
       "  <tbody>\n",
       "    <tr>\n",
       "      <th>0</th>\n",
       "      <td>Welcome to Canopy by Hilton London City, an im...</td>\n",
       "      <td>145</td>\n",
       "      <td>9.4</td>\n",
       "      <td>3119</td>\n",
       "      <td>Hotel</td>\n",
       "      <td>[24-hour reception, 24-hour room service, Busi...</td>\n",
       "      <td>[Air conditioning, Bathtub, Cable TV, Central ...</td>\n",
       "      <td>[]</td>\n",
       "      <td>[Accessible bathroom, Accessible hotel, In-roo...</td>\n",
       "      <td>[Cot]</td>\n",
       "      <td>London</td>\n",
       "      <td>United Kingdom</td>\n",
       "      <td>Canopy by Hilton London City</td>\n",
       "      <td>0.742976</td>\n",
       "    </tr>\n",
       "    <tr>\n",
       "      <th>1</th>\n",
       "      <td>Just a short walk from the Aldgate tube statio...</td>\n",
       "      <td>117</td>\n",
       "      <td>8.9</td>\n",
       "      <td>6329</td>\n",
       "      <td>Hotel</td>\n",
       "      <td>[24-hour reception, Breakfast, Cashless paymen...</td>\n",
       "      <td>[Air conditioning, Central heating, Desk, Free...</td>\n",
       "      <td>[]</td>\n",
       "      <td>[Wheelchair accessible]</td>\n",
       "      <td>[]</td>\n",
       "      <td>London</td>\n",
       "      <td>United Kingdom</td>\n",
       "      <td>Motel One London-Tower Hill</td>\n",
       "      <td>0.712467</td>\n",
       "    </tr>\n",
       "    <tr>\n",
       "      <th>2</th>\n",
       "      <td>Begin your day with a scrumptious on-site brea...</td>\n",
       "      <td>120</td>\n",
       "      <td>9.1</td>\n",
       "      <td>1867</td>\n",
       "      <td>Hotel</td>\n",
       "      <td>[24-hour reception, Café, Cashless payment, Co...</td>\n",
       "      <td>[Air conditioning, Balcony, Central heating, F...</td>\n",
       "      <td>[]</td>\n",
       "      <td>[Wheelchair accessible]</td>\n",
       "      <td>[Cot]</td>\n",
       "      <td>London</td>\n",
       "      <td>United Kingdom</td>\n",
       "      <td>The Gantry London, Curio Collection By Hilton</td>\n",
       "      <td>0.704894</td>\n",
       "    </tr>\n",
       "  </tbody>\n",
       "</table>\n",
       "</div>"
      ],
      "text/plain": [
       "                                         description  price  rating  \\\n",
       "0  Welcome to Canopy by Hilton London City, an im...    145     9.4   \n",
       "1  Just a short walk from the Aldgate tube statio...    117     8.9   \n",
       "2  Begin your day with a scrumptious on-site brea...    120     9.1   \n",
       "\n",
       "   rating_count accomodation_type  \\\n",
       "0          3119             Hotel   \n",
       "1          6329             Hotel   \n",
       "2          1867             Hotel   \n",
       "\n",
       "                                  property_amenities  \\\n",
       "0  [24-hour reception, 24-hour room service, Busi...   \n",
       "1  [24-hour reception, Breakfast, Cashless paymen...   \n",
       "2  [24-hour reception, Café, Cashless payment, Co...   \n",
       "\n",
       "                                      room_amenities wellness_spa  \\\n",
       "0  [Air conditioning, Bathtub, Cable TV, Central ...           []   \n",
       "1  [Air conditioning, Central heating, Desk, Free...           []   \n",
       "2  [Air conditioning, Balcony, Central heating, F...           []   \n",
       "\n",
       "                                       accessibility for_children    city  \\\n",
       "0  [Accessible bathroom, Accessible hotel, In-roo...        [Cot]  London   \n",
       "1                            [Wheelchair accessible]           []  London   \n",
       "2                            [Wheelchair accessible]        [Cot]  London   \n",
       "\n",
       "          country                                             id  \\\n",
       "0  United Kingdom                   Canopy by Hilton London City   \n",
       "1  United Kingdom                    Motel One London-Tower Hill   \n",
       "2  United Kingdom  The Gantry London, Curio Collection By Hilton   \n",
       "\n",
       "   similarity_score  \n",
       "0          0.742976  \n",
       "1          0.712467  \n",
       "2          0.704894  "
      ]
     },
     "execution_count": 12,
     "metadata": {},
     "output_type": "execute_result"
    }
   ],
   "source": [
    "sl.PandasConverter.to_pandas(result)"
   ]
  },
  {
   "cell_type": "code",
   "execution_count": 13,
   "metadata": {},
   "outputs": [],
   "source": [
    "result = app.query(query, **knn_params)"
   ]
  },
  {
   "cell_type": "code",
   "execution_count": 14,
   "metadata": {},
   "outputs": [
    {
     "name": "stdout",
     "output_type": "stream",
     "text": [
      "score=0.74779844 partial_scores=[0.2500174350013831, 0.0, 0.49778098, 0.0]\n",
      "score=0.71380776 partial_scores=[0.22125310191774006, 0.0, 0.49255466, 0.0]\n",
      "score=0.70304483 partial_scores=[0.20803297460660336, 0.0, 0.49501184, 0.0]\n"
     ]
    }
   ],
   "source": [
    "res = [e.metadata for e in result.entries]\n",
    "for r in res:\n",
    "    print(r)\n"
   ]
  }
 ],
 "metadata": {
  "kernelspec": {
   "display_name": "Python 3 (ipykernel)",
   "language": "python",
   "name": "python3"
  },
  "language_info": {
   "codemirror_mode": {
    "name": "ipython",
    "version": 3
   },
   "file_extension": ".py",
   "mimetype": "text/x-python",
   "name": "python",
   "nbconvert_exporter": "python",
   "pygments_lexer": "ipython3",
   "version": "3.11.11"
  }
 },
 "nbformat": 4,
 "nbformat_minor": 4
}
